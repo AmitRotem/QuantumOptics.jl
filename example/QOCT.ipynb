{
 "cells": [
  {
   "cell_type": "code",
   "execution_count": 1,
   "id": "f38dac9d-e127-4b90-bb24-3760a4285680",
   "metadata": {},
   "outputs": [
    {
     "name": "stderr",
     "output_type": "stream",
     "text": [
      "\u001b[32m\u001b[1m  Activating\u001b[22m\u001b[39m project at `~/Amazon WorkDocs Drive/My Documents/P2/QuantumOptics.jl/example`\n"
     ]
    }
   ],
   "source": [
    "]activate ."
   ]
  },
  {
   "cell_type": "code",
   "execution_count": 2,
   "id": "f1a8598f-456e-4aa0-b37a-d047db99e471",
   "metadata": {},
   "outputs": [
    {
     "name": "stdout",
     "output_type": "stream",
     "text": [
      "\u001b[32m\u001b[1mStatus\u001b[22m\u001b[39m `~/Amazon WorkDocs Drive/My Documents/P2/QuantumOptics.jl/example/Project.toml`\n",
      " \u001b[90m [6e4b80f9] \u001b[39mBenchmarkTools v1.3.2\n",
      " \u001b[90m [f6369f11] \u001b[39mForwardDiff v0.10.34\n",
      " \u001b[90m [429524aa] \u001b[39mOptim v1.7.4\n",
      " \u001b[90m [21216c6a] \u001b[39mPreferences v1.3.0\n",
      " \u001b[90m [6e0679c1] \u001b[39mQuantumOptics v1.0.8 `..#promote-state-and-time`\n",
      " \u001b[90m [cf7118a7] \u001b[39mUUIDs\n"
     ]
    }
   ],
   "source": [
    "]st"
   ]
  },
  {
   "cell_type": "code",
   "execution_count": 3,
   "id": "aa44ac04-184f-40ae-928b-b66734b5bd0f",
   "metadata": {},
   "outputs": [
    {
     "name": "stdout",
     "output_type": "stream",
     "text": [
      " 13.881285 seconds (28.65 M allocations: 1.934 GiB, 7.34% gc time, 8.50% compilation time: 60% of which was recompilation)\n",
      "  0.022647 seconds (21.63 k allocations: 1.118 MiB, 95.07% compilation time: 100% of which was recompilation)\n",
      "  0.057959 seconds (72.50 k allocations: 3.817 MiB, 79.18% compilation time: 8% of which was recompilation)\n",
      "  0.000330 seconds (162 allocations: 12.703 KiB)\n",
      "  0.000245 seconds (162 allocations: 12.695 KiB)\n"
     ]
    }
   ],
   "source": [
    "#import Revise\n",
    "using BenchmarkTools\n",
    "@time using QuantumOptics\n",
    "@time import Preferences, UUIDs\n",
    "@time Preferences.set_preferences!(UUIDs.UUID(\"f6369f11-7733-5829-9624-2563aa707210\"), \"nansafe_mode\" => true)\n",
    "@time import ForwardDiff as FD\n",
    "@time import Optim"
   ]
  },
  {
   "cell_type": "markdown",
   "id": "8a90c8bb-67e4-4470-9c54-4714e8e07c3c",
   "metadata": {},
   "source": [
    "# System"
   ]
  },
  {
   "cell_type": "code",
   "execution_count": 4,
   "id": "ee06eff1-0113-41cd-9247-0cdfba1629b5",
   "metadata": {},
   "outputs": [
    {
     "data": {
      "text/plain": [
       "get_Ht (generic function with 1 method)"
      ]
     },
     "execution_count": 4,
     "metadata": {},
     "output_type": "execute_result"
    }
   ],
   "source": [
    "# 3 level kerr transmon with drive\n",
    "ba = FockBasis(2)\n",
    "ω0 = 5.0\n",
    "α = -0.2\n",
    "T2 = 1e4\n",
    "function get_Ht(p::Vector{<:Tp}) where Tp\n",
    "    A, freq, ϕ, T = p\n",
    "    op = 2π*([number(ba), 2\\create(ba)*number(ba)*destroy(ba), im*(create(ba)-destroy(ba))])\n",
    "    fun = [t->Tp(ω0), t->Tp(α), t->A*cospi(2t*freq + 2ϕ)*sinpi(t/T)^2]\n",
    "    H_at_t = LazySum([f(zero(eltype(p))) for f=fun], op)\n",
    "    function Ht(t,u)\n",
    "        for k=1:length(fun)\n",
    "            H_at_t.factors[k] = fun[k](t)\n",
    "        end\n",
    "        H_at_t\n",
    "    end\n",
    "    return Ht\n",
    "end"
   ]
  },
  {
   "cell_type": "code",
   "execution_count": 5,
   "id": "7c89db10-bb31-4c36-909b-6e01f36eb6e2",
   "metadata": {},
   "outputs": [
    {
     "data": {
      "text/plain": [
       "cost (generic function with 1 method)"
      ]
     },
     "execution_count": 5,
     "metadata": {},
     "output_type": "execute_result"
    }
   ],
   "source": [
    "ψ0 = Operator(SpinBasis(1/2), basisstate(ba, 1), basisstate(ba, 2))\n",
    "target = ψ0*exp(im*0.5π*dense(sigmax(SpinBasis(1/2)))) # x gate\n",
    "function cost(par)\n",
    "    T = par[4]\n",
    "    Ht = get_Ht(par)\n",
    "    ts = (0.0, T)\n",
    "    _, ψT = timeevolution.schroedinger_dynamic(ts, ψ0, Ht)\n",
    "    1-abs2(tr(target'last(ψT))/2)*exp(-T/T2)\n",
    "end"
   ]
  },
  {
   "cell_type": "code",
   "execution_count": 6,
   "id": "8701f98c-7bcb-47be-af13-8e5e004024d7",
   "metadata": {
    "tags": []
   },
   "outputs": [
    {
     "name": "stdout",
     "output_type": "stream",
     "text": [
      "  59.758 ms (527965 allocations: 8.08 MiB)\n"
     ]
    },
    {
     "data": {
      "text/plain": [
       "0.010761476896499644"
      ]
     },
     "execution_count": 6,
     "metadata": {},
     "output_type": "execute_result"
    }
   ],
   "source": [
    "p0 = [0.03, 5.0, 0.25, 100.0]\n",
    "@btime cost(p0)"
   ]
  },
  {
   "cell_type": "code",
   "execution_count": 7,
   "id": "1a0d86c0-d45d-4a86-a6a3-76d4482a346a",
   "metadata": {},
   "outputs": [
    {
     "name": "stdout",
     "output_type": "stream",
     "text": [
      "  168.576 ms (791799 allocations: 36.27 MiB)\n"
     ]
    },
    {
     "data": {
      "text/plain": [
       "4-element Vector{Float64}:\n",
       " -2.183297810465961\n",
       " -3.7994486402775753\n",
       " -2.3044408856563905e-5\n",
       " -0.0006174845877517085"
      ]
     },
     "execution_count": 7,
     "metadata": {},
     "output_type": "execute_result"
    }
   ],
   "source": [
    "@btime FD.gradient(cost, p0)"
   ]
  },
  {
   "cell_type": "code",
   "execution_count": 8,
   "id": "4d1f4559-48d9-4231-bedd-29d17701520b",
   "metadata": {},
   "outputs": [
    {
     "data": {
      "text/plain": [
       "fg! (generic function with 1 method)"
      ]
     },
     "execution_count": 8,
     "metadata": {},
     "output_type": "execute_result"
    }
   ],
   "source": [
    "function fg!(L,G,p)\n",
    "    if G != nothing\n",
    "        G .= FD.gradient(cost, p)\n",
    "        any(isnan.(G)) && error(\"NaN !!\")\n",
    "    end\n",
    "    cost(p)\n",
    "end"
   ]
  },
  {
   "cell_type": "code",
   "execution_count": 9,
   "id": "223245b9-62a1-4272-a544-de1b52585ff5",
   "metadata": {
    "tags": []
   },
   "outputs": [
    {
     "name": "stdout",
     "output_type": "stream",
     "text": [
      "Iter     Function value   Gradient norm \n",
      "     0     1.076148e-02     3.799449e+00\n",
      " * time: 0.014918088912963867\n",
      "     1     1.070336e-02     1.617190e+00\n",
      " * time: 5.7250449657440186\n",
      "     2     1.067363e-02     2.204175e-01\n",
      " * time: 6.458923101425171\n",
      "     3     1.067220e-02     5.033757e-01\n",
      " * time: 7.199257135391235\n",
      "     4     1.005862e-02     1.167300e-01\n",
      " * time: 8.880182981491089\n",
      "     5     1.005848e-02     1.478089e-03\n",
      " * time: 9.604084014892578\n",
      "     6     1.005848e-02     3.408468e-05\n",
      " * time: 10.07511305809021\n",
      "     7     1.005848e-02     3.676830e-03\n",
      " * time: 11.781563997268677\n",
      "     8     9.785697e-03     1.355507e+00\n",
      " * time: 14.621310949325562\n",
      "     9     9.681595e-03     2.427502e+00\n",
      " * time: 15.51258897781372\n",
      "    10     9.582853e-03     3.287200e+00\n",
      " * time: 15.977772951126099\n",
      "    11     9.566007e-03     3.439087e+00\n",
      " * time: 16.382487058639526\n",
      "    12     9.442886e-03     2.313226e+00\n",
      " * time: 17.49595618247986\n",
      "    13     9.024044e-03     1.487944e-01\n",
      " * time: 18.10581612586975\n",
      "    14     8.898366e-03     7.408961e-01\n",
      " * time: 18.540877103805542\n",
      "    15     8.762796e-03     2.574156e+00\n",
      " * time: 19.75226402282715\n",
      "    16     8.749098e-03     3.027010e+00\n",
      " * time: 20.176114082336426\n",
      "    17     8.383596e-03     1.917708e+00\n",
      " * time: 20.975943088531494\n",
      "    18     8.363582e-03     1.869598e+00\n",
      " * time: 21.356791973114014\n",
      "    19     8.170207e-03     2.302581e+00\n",
      " * time: 21.92997908592224\n",
      "    20     8.019758e-03     2.457385e+00\n",
      " * time: 22.30635905265808\n",
      "    21     7.862139e-03     1.837950e+00\n",
      " * time: 22.694628953933716\n",
      "    22     7.724445e-03     1.653271e+00\n",
      " * time: 23.238161087036133\n",
      "    23     7.700410e-03     1.677556e+00\n",
      " * time: 23.60307216644287\n",
      "    24     7.623719e-03     2.605463e+00\n",
      " * time: 24.116531133651733\n",
      "    25     7.572398e-03     1.184740e+00\n",
      " * time: 24.6429500579834\n",
      "    26     7.565905e-03     1.365344e+00\n",
      " * time: 24.977905988693237\n",
      "    27     7.533564e-03     1.386251e+00\n",
      " * time: 25.332834005355835\n",
      "    28     7.503108e-03     1.003838e+00\n",
      " * time: 25.836647033691406\n",
      "    29     7.497174e-03     9.463735e-01\n",
      " * time: 26.172661066055298\n",
      "    30     7.054370e-03     4.688197e+00\n",
      " * time: 26.825201988220215\n",
      "    31     6.753335e-03     1.896597e+00\n",
      " * time: 27.295127153396606\n",
      "    32     6.664579e-03     1.634214e+00\n",
      " * time: 27.791495084762573\n",
      "    33     6.615413e-03     2.417983e+00\n",
      " * time: 28.11074709892273\n",
      "    34     6.454059e-03     1.625761e+00\n",
      " * time: 28.58814001083374\n",
      "    35     6.222757e-03     1.399054e+00\n",
      " * time: 29.020689010620117\n",
      "    36     6.004785e-03     5.245814e-01\n",
      " * time: 29.45593810081482\n",
      "    37     5.996225e-03     4.931607e-01\n",
      " * time: 29.727635145187378\n",
      "    38     5.895462e-03     7.658491e-01\n",
      " * time: 30.003793001174927\n",
      "    39     5.877231e-03     8.036827e-01\n",
      " * time: 30.28461217880249\n",
      "    40     5.770156e-03     1.401733e+00\n",
      " * time: 30.55575203895569\n",
      "    41     5.682377e-03     1.784934e+00\n",
      " * time: 30.976768970489502\n",
      "    42     5.598332e-03     1.361516e+00\n",
      " * time: 31.367830991744995\n",
      "    43     5.491958e-03     2.122296e+00\n",
      " * time: 31.63308310508728\n",
      "    44     5.408905e-03     1.860966e+00\n",
      " * time: 31.907862186431885\n",
      "    45     5.338608e-03     1.525882e+00\n",
      " * time: 32.15761995315552\n",
      "    46     5.229809e-03     1.504221e+00\n",
      " * time: 32.40492796897888\n",
      "    47     5.147408e-03     1.116933e+00\n",
      " * time: 32.77862095832825\n",
      "    48     5.060920e-03     1.435721e+00\n",
      " * time: 33.12467002868652\n",
      "    49     4.935838e-03     2.081155e+00\n",
      " * time: 33.47510814666748\n",
      "    50     4.854221e-03     1.888522e+00\n",
      " * time: 33.71674108505249\n",
      "    51     4.826032e-03     1.720999e+00\n",
      " * time: 33.93651795387268\n",
      "    52     4.806272e-03     1.583463e+00\n",
      " * time: 34.15797805786133\n",
      "    53     4.715989e-03     8.654025e-01\n",
      " * time: 34.510174036026\n",
      "    54     4.625831e-03     1.402069e+00\n",
      " * time: 34.93739414215088\n",
      "    55     4.542630e-03     7.737713e-01\n",
      " * time: 35.27868318557739\n",
      "    56     4.359754e-03     8.591695e-01\n",
      " * time: 35.58087205886841\n",
      "    57     4.242521e-03     1.059223e+00\n",
      " * time: 36.38867902755737\n",
      "    58     4.218846e-03     8.964342e-01\n",
      " * time: 36.5904381275177\n",
      "    59     4.170898e-03     8.457084e-01\n",
      " * time: 36.7930121421814\n",
      "    60     4.140540e-03     8.557565e-01\n",
      " * time: 37.10909914970398\n",
      "    61     4.077649e-03     8.155984e-01\n",
      " * time: 37.40296697616577\n",
      "    62     4.025912e-03     7.305893e-01\n",
      " * time: 37.600550174713135\n",
      "    63     3.922464e-03     5.505503e-01\n",
      " * time: 37.9042010307312\n",
      "    64     3.844080e-03     6.519118e-01\n",
      " * time: 38.18313002586365\n",
      "    65     3.687601e-03     5.045358e-01\n",
      " * time: 38.449548959732056\n",
      "    66     3.643350e-03     6.453463e-01\n",
      " * time: 38.974855184555054\n",
      "    67     3.606685e-03     6.297998e-01\n",
      " * time: 39.32573318481445\n",
      "    68     3.582402e-03     4.809644e-01\n",
      " * time: 39.51445913314819\n",
      "    69     3.554387e-03     6.006996e-01\n",
      " * time: 39.77488303184509\n",
      "    70     3.466654e-03     1.261850e+00\n",
      " * time: 40.115906953811646\n",
      "    71     3.435125e-03     1.204997e+00\n",
      " * time: 40.46325397491455\n",
      "    72     3.414846e-03     1.080489e+00\n",
      " * time: 40.630584955215454\n",
      "    73     3.346979e-03     5.337136e-01\n",
      " * time: 40.79029703140259\n",
      "    74     3.320161e-03     7.784848e-01\n",
      " * time: 41.04144096374512\n",
      "    75     3.287661e-03     8.294313e-01\n",
      " * time: 41.204282999038696\n",
      "    76     3.232680e-03     5.438102e-01\n",
      " * time: 41.45147204399109\n",
      "    77     3.195839e-03     3.440962e-01\n",
      " * time: 41.603580951690674\n",
      "    78     3.132977e-03     4.426806e-01\n",
      " * time: 41.82373595237732\n",
      "    79     3.095134e-03     5.490185e-01\n",
      " * time: 42.041402101516724\n",
      "    80     3.070383e-03     1.912841e-01\n",
      " * time: 42.205759048461914\n",
      "    81     3.013940e-03     2.547045e-01\n",
      " * time: 42.418840169906616\n",
      "    82     2.989459e-03     3.337297e-01\n",
      " * time: 42.562942028045654\n",
      "    83     2.936704e-03     4.246283e-01\n",
      " * time: 42.702353954315186\n",
      "    84     2.905506e-03     1.557955e-01\n",
      " * time: 42.912575006484985\n",
      "    85     2.873334e-03     8.406974e-02\n",
      " * time: 43.0654411315918\n",
      "    86     2.855232e-03     1.612149e-01\n",
      " * time: 43.33011507987976\n",
      "    87     2.835853e-03     2.383226e-01\n",
      " * time: 43.46237111091614\n",
      "    88     2.807701e-03     3.467545e-01\n",
      " * time: 43.597368001937866\n",
      "    89     2.801808e-03     2.648300e-01\n",
      " * time: 43.73228907585144\n",
      "    90     2.761510e-03     2.920088e-01\n",
      " * time: 43.94717216491699\n",
      "    91     2.717350e-03     7.252241e-01\n",
      " * time: 44.13442611694336\n",
      "    92     2.701484e-03     7.309401e-01\n",
      " * time: 44.382896184921265\n",
      "    93     2.689391e-03     6.863262e-01\n",
      " * time: 44.50844407081604\n",
      "    94     2.671611e-03     5.782852e-01\n",
      " * time: 44.651041984558105\n",
      "    95     2.645562e-03     2.581463e-01\n",
      " * time: 44.77514100074768\n",
      "    96     2.629713e-03     3.541142e-01\n",
      " * time: 44.95887899398804\n",
      "    97     2.621650e-03     3.488093e-01\n",
      " * time: 45.083155155181885\n",
      "    98     2.583498e-03     2.974876e-01\n",
      " * time: 45.26673603057861\n",
      "    99     2.493743e-03     2.456832e-01\n",
      " * time: 45.445266008377075\n",
      "   100     2.466693e-03     1.715541e-01\n",
      " * time: 45.58346700668335\n",
      "   101     2.416330e-03     1.434967e-01\n",
      " * time: 45.81024408340454\n",
      "   102     2.402512e-03     1.595440e-01\n",
      " * time: 46.03017616271973\n",
      "   103     2.389785e-03     1.958776e-01\n",
      " * time: 46.14348101615906\n",
      "   104     2.378699e-03     3.173482e-01\n",
      " * time: 46.31173896789551\n",
      "   105     2.340664e-03     4.627856e-01\n",
      " * time: 46.505666971206665\n",
      "   106     2.326154e-03     2.815503e-01\n",
      " * time: 46.62055015563965\n",
      "   107     2.305398e-03     2.635987e-01\n",
      " * time: 46.730560064315796\n",
      "   108     2.295852e-03     1.099203e-01\n",
      " * time: 46.89669108390808\n",
      "   109     2.292152e-03     1.933717e-02\n",
      " * time: 47.01065802574158\n",
      "   110     2.287681e-03     3.800184e-02\n",
      " * time: 47.1746289730072\n",
      "   111     2.286312e-03     2.095661e-02\n",
      " * time: 47.354061126708984\n",
      "   112     2.286132e-03     2.031090e-03\n",
      " * time: 47.515637159347534\n",
      "   113     2.286104e-03     1.011294e-03\n",
      " * time: 47.62384295463562\n",
      "   114     2.286101e-03     6.003817e-04\n",
      " * time: 47.78396511077881\n",
      "   115     2.286100e-03     1.576639e-04\n",
      " * time: 47.890625\n",
      "   116     2.286100e-03     1.657506e-05\n",
      " * time: 47.99930715560913\n",
      "   117     2.286100e-03     2.613890e-06\n",
      " * time: 48.12588715553284\n",
      "   118     2.286100e-03     1.271598e-05\n",
      " * time: 48.231379985809326\n",
      "   119     2.286100e-03     5.375738e-07\n",
      " * time: 48.34009504318237\n",
      "   120     2.286100e-03     2.089172e-08\n",
      " * time: 48.499996185302734\n",
      "   121     2.286100e-03     1.436127e-09\n",
      " * time: 48.60711216926575\n"
     ]
    },
    {
     "data": {
      "text/plain": [
       " * Status: success (objective increased between iterations)\n",
       "\n",
       " * Candidate solution\n",
       "    Final objective value:     2.286100e-03\n",
       "\n",
       " * Found with\n",
       "    Algorithm:     L-BFGS\n",
       "\n",
       " * Convergence measures\n",
       "    |x - x'|               = 7.33e-08 ≰ 0.0e+00\n",
       "    |x - x'|/|x'|          = 3.73e-10 ≰ 0.0e+00\n",
       "    |f(x) - f(x')|         = 6.38e-14 ≰ 0.0e+00\n",
       "    |f(x) - f(x')|/|f(x')| = 2.79e-11 ≰ 0.0e+00\n",
       "    |g(x)|                 = 1.44e-09 ≤ 1.0e-08\n",
       "\n",
       " * Work counters\n",
       "    Seconds run:   49  (vs limit Inf)\n",
       "    Iterations:    121\n",
       "    f(x) calls:    367\n",
       "    ∇f(x) calls:   367\n"
      ]
     },
     "execution_count": 9,
     "metadata": {},
     "output_type": "execute_result"
    }
   ],
   "source": [
    "Optim.optimize(Optim.only_fg!(fg!), p0, Optim.Options(show_trace=true))"
   ]
  }
 ],
 "metadata": {
  "kernelspec": {
   "display_name": "Julia 1.8.1",
   "language": "julia",
   "name": "julia-1.8"
  },
  "language_info": {
   "file_extension": ".jl",
   "mimetype": "application/julia",
   "name": "julia",
   "version": "1.8.1"
  }
 },
 "nbformat": 4,
 "nbformat_minor": 5
}
