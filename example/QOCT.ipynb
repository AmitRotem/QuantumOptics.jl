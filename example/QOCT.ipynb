{
 "cells": [
  {
   "cell_type": "code",
   "execution_count": 1,
   "id": "f38dac9d-e127-4b90-bb24-3760a4285680",
   "metadata": {},
   "outputs": [
    {
     "name": "stderr",
     "output_type": "stream",
     "text": [
      "\u001b[32m\u001b[1m  Activating\u001b[22m\u001b[39m project at `~/Amazon WorkDocs Drive/My Documents/P2/QuantumOptics.jl/example`\n"
     ]
    }
   ],
   "source": [
    "]activate ."
   ]
  },
  {
   "cell_type": "code",
   "execution_count": 2,
   "id": "f1a8598f-456e-4aa0-b37a-d047db99e471",
   "metadata": {},
   "outputs": [
    {
     "name": "stdout",
     "output_type": "stream",
     "text": [
      "\u001b[32m\u001b[1mStatus\u001b[22m\u001b[39m `~/Amazon WorkDocs Drive/My Documents/P2/QuantumOptics.jl/example/Project.toml`\n",
      " \u001b[90m [6e4b80f9] \u001b[39mBenchmarkTools v1.3.2\n",
      " \u001b[90m [f6369f11] \u001b[39mForwardDiff v0.10.34\n",
      " \u001b[90m [429524aa] \u001b[39mOptim v1.7.4\n",
      " \u001b[90m [21216c6a] \u001b[39mPreferences v1.3.0\n",
      " \u001b[90m [6e0679c1] \u001b[39mQuantumOptics v1.0.8 `..`\n",
      " \u001b[90m [295af30f] \u001b[39mRevise v3.4.0\n",
      " \u001b[90m [cf7118a7] \u001b[39mUUIDs\n"
     ]
    }
   ],
   "source": [
    "]st"
   ]
  },
  {
   "cell_type": "code",
   "execution_count": 3,
   "id": "aa44ac04-184f-40ae-928b-b66734b5bd0f",
   "metadata": {},
   "outputs": [
    {
     "name": "stderr",
     "output_type": "stream",
     "text": [
      "┌ Info: Precompiling QuantumOptics [6e0679c1-51ea-5a7c-ac74-d61b76210b0c]\n",
      "└ @ Base loading.jl:1662\n"
     ]
    }
   ],
   "source": [
    "#import Revise\n",
    "using BenchmarkTools\n",
    "using QuantumOptics\n",
    "import Preferences, UUIDs\n",
    "Preferences.set_preferences!(UUIDs.UUID(\"f6369f11-7733-5829-9624-2563aa707210\"), \"nansafe_mode\" => true)\n",
    "import ForwardDiff as FD\n",
    "import Optim"
   ]
  },
  {
   "cell_type": "markdown",
   "id": "8a90c8bb-67e4-4470-9c54-4714e8e07c3c",
   "metadata": {},
   "source": [
    "# System"
   ]
  },
  {
   "cell_type": "code",
   "execution_count": 4,
   "id": "ee06eff1-0113-41cd-9247-0cdfba1629b5",
   "metadata": {},
   "outputs": [
    {
     "data": {
      "text/plain": [
       "get_Ht (generic function with 1 method)"
      ]
     },
     "execution_count": 4,
     "metadata": {},
     "output_type": "execute_result"
    }
   ],
   "source": [
    "# 3 level kerr transmon with drive\n",
    "ba = FockBasis(2)\n",
    "ω0 = 5.0\n",
    "α = -0.2\n",
    "T2 = 1e4\n",
    "function get_Ht(p::Vector{<:Tp}) where Tp\n",
    "    A, freq, ϕ, T = p\n",
    "    op = 2π*([number(ba), 2\\create(ba)*number(ba)*destroy(ba), im*(create(ba)-destroy(ba))])\n",
    "    fun = [t->Tp(ω0), t->Tp(α), t->A*cospi(2t*freq + 2ϕ)*sinpi(t/T)^2]\n",
    "    H_at_t = LazySum([f(zero(eltype(p))) for f=fun], op)\n",
    "    function Ht(t,u)\n",
    "        for k=1:length(fun)\n",
    "            H_at_t.factors[k] = fun[k](t)\n",
    "        end\n",
    "        H_at_t\n",
    "    end\n",
    "    return Ht\n",
    "end"
   ]
  },
  {
   "cell_type": "code",
   "execution_count": 5,
   "id": "7c89db10-bb31-4c36-909b-6e01f36eb6e2",
   "metadata": {},
   "outputs": [
    {
     "data": {
      "text/plain": [
       "cost (generic function with 1 method)"
      ]
     },
     "execution_count": 5,
     "metadata": {},
     "output_type": "execute_result"
    }
   ],
   "source": [
    "ψ0 = Operator(SpinBasis(1/2), basisstate(ba, 1), basisstate(ba, 2))\n",
    "target = ψ0*exp(im*0.5π*dense(sigmax(SpinBasis(1/2)))) # x gate\n",
    "function cost(par)\n",
    "    T = par[4]\n",
    "    Ht = get_Ht(par)\n",
    "    ts = (0.0, T)\n",
    "    _, ψT = timeevolution.schroedinger_dynamic(ts, ψ0, Ht)\n",
    "    1-abs2(tr(target'last(ψT))/2)*exp(-T/T2)\n",
    "end"
   ]
  },
  {
   "cell_type": "code",
   "execution_count": 6,
   "id": "8701f98c-7bcb-47be-af13-8e5e004024d7",
   "metadata": {
    "tags": []
   },
   "outputs": [
    {
     "name": "stdout",
     "output_type": "stream",
     "text": [
      " 15.202323 seconds (43.83 M allocations: 2.330 GiB, 5.61% gc time, 99.56% compilation time)\n"
     ]
    },
    {
     "data": {
      "text/plain": [
       "0.010761476896499644"
      ]
     },
     "execution_count": 6,
     "metadata": {},
     "output_type": "execute_result"
    }
   ],
   "source": [
    "p0 = [0.03, 5.0, 0.25, 100.0]\n",
    "@time cost(p0)"
   ]
  },
  {
   "cell_type": "code",
   "execution_count": 7,
   "id": "1a0d86c0-d45d-4a86-a6a3-76d4482a346a",
   "metadata": {},
   "outputs": [
    {
     "name": "stdout",
     "output_type": "stream",
     "text": [
      "  9.586331 seconds (27.03 M allocations: 1.385 GiB, 4.59% gc time, 96.10% compilation time)\n"
     ]
    },
    {
     "data": {
      "text/plain": [
       "4-element Vector{Float64}:\n",
       " -2.183297810465961\n",
       " -3.7994486402775753\n",
       " -2.3044408856563905e-5\n",
       " -0.0006174845877517085"
      ]
     },
     "execution_count": 7,
     "metadata": {},
     "output_type": "execute_result"
    }
   ],
   "source": [
    "@time FD.gradient(cost, p0)"
   ]
  },
  {
   "cell_type": "code",
   "execution_count": 8,
   "id": "4d1f4559-48d9-4231-bedd-29d17701520b",
   "metadata": {},
   "outputs": [
    {
     "data": {
      "text/plain": [
       "fg! (generic function with 1 method)"
      ]
     },
     "execution_count": 8,
     "metadata": {},
     "output_type": "execute_result"
    }
   ],
   "source": [
    "function fg!(L,G,p)\n",
    "    if G != nothing\n",
    "        G .= FD.gradient(cost, p)\n",
    "        any(isnan.(G)) && error(\"NaN !!\")\n",
    "    end\n",
    "    cost(p)\n",
    "end"
   ]
  },
  {
   "cell_type": "code",
   "execution_count": 9,
   "id": "223245b9-62a1-4272-a544-de1b52585ff5",
   "metadata": {
    "tags": []
   },
   "outputs": [
    {
     "name": "stdout",
     "output_type": "stream",
     "text": [
      "Iter     Function value   Gradient norm \n",
      "     0     1.076148e-02     3.799449e+00\n",
      " * time: 0.014072895050048828\n",
      "     1     1.070336e-02     1.617190e+00\n",
      " * time: 5.551403999328613\n",
      "     2     1.067363e-02     2.204175e-01\n",
      " * time: 6.248154878616333\n",
      "     3     1.067220e-02     5.033757e-01\n",
      " * time: 6.922886848449707\n",
      "     4     1.005862e-02     1.167300e-01\n",
      " * time: 8.571087837219238\n",
      "     5     1.005848e-02     1.478089e-03\n",
      " * time: 9.293755054473877\n",
      "     6     1.005848e-02     3.408468e-05\n",
      " * time: 9.748358011245728\n",
      "     7     1.005848e-02     3.676830e-03\n",
      " * time: 11.440984964370728\n",
      "     8     9.785697e-03     1.355507e+00\n",
      " * time: 14.267570972442627\n",
      "     9     9.681595e-03     2.427502e+00\n",
      " * time: 15.108496904373169\n",
      "    10     9.582853e-03     3.287200e+00\n",
      " * time: 15.563971996307373\n",
      "    11     9.566007e-03     3.439087e+00\n",
      " * time: 15.95724892616272\n",
      "    12     9.442886e-03     2.313226e+00\n",
      " * time: 17.03831195831299\n",
      "    13     9.024044e-03     1.487944e-01\n",
      " * time: 17.662473917007446\n",
      "    14     8.898366e-03     7.408961e-01\n",
      " * time: 18.058568000793457\n",
      "    15     8.762796e-03     2.574156e+00\n",
      " * time: 19.28113603591919\n",
      "    16     8.749098e-03     3.027010e+00\n",
      " * time: 19.661237955093384\n",
      "    17     8.383596e-03     1.917708e+00\n",
      " * time: 20.434866905212402\n",
      "    18     8.363582e-03     1.869598e+00\n",
      " * time: 20.801923036575317\n",
      "    19     8.170207e-03     2.302581e+00\n",
      " * time: 21.363368034362793\n",
      "    20     8.019758e-03     2.457385e+00\n",
      " * time: 21.71561288833618\n",
      "    21     7.862139e-03     1.837950e+00\n",
      " * time: 22.064642906188965\n",
      "    22     7.724445e-03     1.653271e+00\n",
      " * time: 22.60659885406494\n",
      "    23     7.700410e-03     1.677556e+00\n",
      " * time: 22.952218055725098\n",
      "    24     7.623719e-03     2.605463e+00\n",
      " * time: 23.480962991714478\n",
      "    25     7.572398e-03     1.184740e+00\n",
      " * time: 23.975244998931885\n",
      "    26     7.565905e-03     1.365344e+00\n",
      " * time: 24.333133935928345\n",
      "    27     7.533564e-03     1.386251e+00\n",
      " * time: 24.65981888771057\n",
      "    28     7.503108e-03     1.003838e+00\n",
      " * time: 25.143759965896606\n",
      "    29     7.497174e-03     9.463735e-01\n",
      " * time: 25.488555908203125\n",
      "    30     7.054370e-03     4.688197e+00\n",
      " * time: 26.11694097518921\n",
      "    31     6.753335e-03     1.896597e+00\n",
      " * time: 26.609909057617188\n",
      "    32     6.664579e-03     1.634214e+00\n",
      " * time: 27.07159185409546\n",
      "    33     6.615413e-03     2.417983e+00\n",
      " * time: 27.4022319316864\n",
      "    34     6.454059e-03     1.625761e+00\n",
      " * time: 27.836726903915405\n",
      "    35     6.222757e-03     1.399054e+00\n",
      " * time: 28.295186042785645\n",
      "    36     6.004785e-03     5.245814e-01\n",
      " * time: 28.705172061920166\n",
      "    37     5.996225e-03     4.931607e-01\n",
      " * time: 28.964997053146362\n",
      "    38     5.895462e-03     7.658491e-01\n",
      " * time: 29.23436999320984\n",
      "    39     5.877231e-03     8.036827e-01\n",
      " * time: 29.526391983032227\n",
      "    40     5.770156e-03     1.401733e+00\n",
      " * time: 29.858600854873657\n",
      "    41     5.682377e-03     1.784934e+00\n",
      " * time: 30.490200996398926\n",
      "    42     5.598332e-03     1.361516e+00\n",
      " * time: 31.24561595916748\n",
      "    43     5.491958e-03     2.122296e+00\n",
      " * time: 31.65804696083069\n",
      "    44     5.408905e-03     1.860966e+00\n",
      " * time: 32.065743923187256\n",
      "    45     5.338608e-03     1.525882e+00\n",
      " * time: 32.53972291946411\n",
      "    46     5.229809e-03     1.504221e+00\n",
      " * time: 32.78563094139099\n",
      "    47     5.147408e-03     1.116933e+00\n",
      " * time: 33.23865604400635\n",
      "    48     5.060920e-03     1.435721e+00\n",
      " * time: 33.88977789878845\n",
      "    49     4.935838e-03     2.081155e+00\n",
      " * time: 34.43989586830139\n",
      "    50     4.854221e-03     1.888522e+00\n",
      " * time: 34.77469491958618\n",
      "    51     4.826032e-03     1.720999e+00\n",
      " * time: 35.11382293701172\n",
      "    52     4.806272e-03     1.583463e+00\n",
      " * time: 35.500064849853516\n",
      "    53     4.715989e-03     8.654025e-01\n",
      " * time: 35.82361197471619\n",
      "    54     4.625831e-03     1.402069e+00\n",
      " * time: 36.34078001976013\n",
      "    55     4.542630e-03     7.737713e-01\n",
      " * time: 36.68235182762146\n",
      "    56     4.359754e-03     8.591695e-01\n",
      " * time: 36.97069501876831\n",
      "    57     4.242521e-03     1.059223e+00\n",
      " * time: 37.75831604003906\n",
      "    58     4.218846e-03     8.964342e-01\n",
      " * time: 37.95005702972412\n",
      "    59     4.170898e-03     8.457084e-01\n",
      " * time: 38.14418005943298\n",
      "    60     4.140540e-03     8.557565e-01\n",
      " * time: 38.42997884750366\n",
      "    61     4.077649e-03     8.155984e-01\n",
      " * time: 38.750612020492554\n",
      "    62     4.025912e-03     7.305893e-01\n",
      " * time: 38.93448805809021\n",
      "    63     3.922464e-03     5.505503e-01\n",
      " * time: 39.21360993385315\n",
      "    64     3.844080e-03     6.519118e-01\n",
      " * time: 39.61300587654114\n",
      "    65     3.687601e-03     5.045358e-01\n",
      " * time: 40.11918783187866\n",
      "    66     3.643350e-03     6.453463e-01\n",
      " * time: 40.92545700073242\n",
      "    67     3.606685e-03     6.297998e-01\n",
      " * time: 41.29640483856201\n",
      "    68     3.582402e-03     4.809644e-01\n",
      " * time: 41.46167302131653\n",
      "    69     3.554387e-03     6.006996e-01\n",
      " * time: 41.71066498756409\n",
      "    70     3.466654e-03     1.261850e+00\n",
      " * time: 42.056126832962036\n",
      "    71     3.435125e-03     1.204997e+00\n",
      " * time: 42.396153926849365\n",
      "    72     3.414846e-03     1.080489e+00\n",
      " * time: 42.56765103340149\n",
      "    73     3.346979e-03     5.337136e-01\n",
      " * time: 42.82188892364502\n",
      "    74     3.320161e-03     7.784848e-01\n",
      " * time: 43.06888389587402\n",
      "    75     3.287661e-03     8.294313e-01\n",
      " * time: 43.228771924972534\n",
      "    76     3.232680e-03     5.438102e-01\n",
      " * time: 43.51948690414429\n",
      "    77     3.195839e-03     3.440962e-01\n",
      " * time: 43.76465392112732\n",
      "    78     3.132977e-03     4.426806e-01\n",
      " * time: 44.11206388473511\n",
      "    79     3.095134e-03     5.490185e-01\n",
      " * time: 44.45733284950256\n",
      "    80     3.070383e-03     1.912841e-01\n",
      " * time: 44.70554995536804\n",
      "    81     3.013940e-03     2.547045e-01\n",
      " * time: 45.111820936203\n",
      "    82     2.989459e-03     3.337297e-01\n",
      " * time: 45.33782982826233\n",
      "    83     2.936704e-03     4.246283e-01\n",
      " * time: 45.55184483528137\n",
      "    84     2.905506e-03     1.557955e-01\n",
      " * time: 45.88575601577759\n",
      "    85     2.873334e-03     8.406974e-02\n",
      " * time: 46.0669469833374\n",
      "    86     2.855232e-03     1.612149e-01\n",
      " * time: 46.38609504699707\n",
      "    87     2.835853e-03     2.383226e-01\n",
      " * time: 46.676872968673706\n",
      "    88     2.807701e-03     3.467545e-01\n",
      " * time: 46.88674592971802\n",
      "    89     2.801808e-03     2.648300e-01\n",
      " * time: 47.103147983551025\n",
      "    90     2.761510e-03     2.920088e-01\n",
      " * time: 47.40475797653198\n",
      "    91     2.717350e-03     7.252241e-01\n",
      " * time: 47.70236396789551\n",
      "    92     2.701484e-03     7.309401e-01\n",
      " * time: 48.09807085990906\n",
      "    93     2.689391e-03     6.863262e-01\n",
      " * time: 48.36323690414429\n",
      "    94     2.671611e-03     5.782852e-01\n",
      " * time: 48.56191682815552\n",
      "    95     2.645562e-03     2.581463e-01\n",
      " * time: 48.749804973602295\n",
      "    96     2.629713e-03     3.541142e-01\n",
      " * time: 48.96901798248291\n",
      "    97     2.621650e-03     3.488093e-01\n",
      " * time: 49.093814849853516\n",
      "    98     2.583498e-03     2.974876e-01\n",
      " * time: 49.29377484321594\n",
      "    99     2.493743e-03     2.456832e-01\n",
      " * time: 49.55869388580322\n",
      "   100     2.466693e-03     1.715541e-01\n",
      " * time: 49.67369890213013\n",
      "   101     2.416330e-03     1.434967e-01\n",
      " * time: 49.90017294883728\n",
      "   102     2.402512e-03     1.595440e-01\n",
      " * time: 50.107745885849\n",
      "   103     2.389785e-03     1.958776e-01\n",
      " * time: 50.21912884712219\n",
      "   104     2.378699e-03     3.173482e-01\n",
      " * time: 50.3974289894104\n",
      "   105     2.340664e-03     4.627856e-01\n",
      " * time: 50.71933889389038\n",
      "   106     2.326154e-03     2.815503e-01\n",
      " * time: 50.89299988746643\n",
      "   107     2.305398e-03     2.635987e-01\n",
      " * time: 51.064854860305786\n",
      "   108     2.295852e-03     1.099203e-01\n",
      " * time: 51.291332960128784\n",
      "   109     2.292152e-03     1.933717e-02\n",
      " * time: 51.39689898490906\n",
      "   110     2.287681e-03     3.800184e-02\n",
      " * time: 51.55134987831116\n",
      "   111     2.286312e-03     2.095661e-02\n",
      " * time: 51.70770001411438\n",
      "   112     2.286132e-03     2.031090e-03\n",
      " * time: 51.86284899711609\n",
      "   113     2.286104e-03     1.011294e-03\n",
      " * time: 52.00073504447937\n",
      "   114     2.286101e-03     6.003817e-04\n",
      " * time: 52.207639932632446\n",
      "   115     2.286100e-03     1.576639e-04\n",
      " * time: 52.37251806259155\n",
      "   116     2.286100e-03     1.657506e-05\n",
      " * time: 52.5307240486145\n",
      "   117     2.286100e-03     2.613890e-06\n",
      " * time: 52.68236589431763\n",
      "   118     2.286100e-03     1.271598e-05\n",
      " * time: 52.79805302619934\n",
      "   119     2.286100e-03     5.375738e-07\n",
      " * time: 52.96167302131653\n",
      "   120     2.286100e-03     2.089172e-08\n",
      " * time: 53.16723895072937\n",
      "   121     2.286100e-03     1.436127e-09\n",
      " * time: 53.45602583885193\n"
     ]
    },
    {
     "data": {
      "text/plain": [
       " * Status: success (objective increased between iterations)\n",
       "\n",
       " * Candidate solution\n",
       "    Final objective value:     2.286100e-03\n",
       "\n",
       " * Found with\n",
       "    Algorithm:     L-BFGS\n",
       "\n",
       " * Convergence measures\n",
       "    |x - x'|               = 7.33e-08 ≰ 0.0e+00\n",
       "    |x - x'|/|x'|          = 3.73e-10 ≰ 0.0e+00\n",
       "    |f(x) - f(x')|         = 6.38e-14 ≰ 0.0e+00\n",
       "    |f(x) - f(x')|/|f(x')| = 2.79e-11 ≰ 0.0e+00\n",
       "    |g(x)|                 = 1.44e-09 ≤ 1.0e-08\n",
       "\n",
       " * Work counters\n",
       "    Seconds run:   53  (vs limit Inf)\n",
       "    Iterations:    121\n",
       "    f(x) calls:    367\n",
       "    ∇f(x) calls:   367\n"
      ]
     },
     "execution_count": 9,
     "metadata": {},
     "output_type": "execute_result"
    }
   ],
   "source": [
    "Optim.optimize(Optim.only_fg!(fg!), p0, Optim.Options(show_trace=true))"
   ]
  }
 ],
 "metadata": {
  "kernelspec": {
   "display_name": "Julia 1.8.1",
   "language": "julia",
   "name": "julia-1.8"
  },
  "language_info": {
   "file_extension": ".jl",
   "mimetype": "application/julia",
   "name": "julia",
   "version": "1.8.1"
  }
 },
 "nbformat": 4,
 "nbformat_minor": 5
}
