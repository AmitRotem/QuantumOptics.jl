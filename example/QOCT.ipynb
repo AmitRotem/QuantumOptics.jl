{
 "cells": [
  {
   "cell_type": "code",
   "execution_count": 1,
   "id": "f38dac9d-e127-4b90-bb24-3760a4285680",
   "metadata": {},
   "outputs": [
    {
     "name": "stderr",
     "output_type": "stream",
     "text": [
      "\u001b[32m\u001b[1m  Activating\u001b[22m\u001b[39m project at `~/Amazon WorkDocs Drive/My Documents/P2/QuantumOptics.jl/example`\n"
     ]
    }
   ],
   "source": [
    "]activate ."
   ]
  },
  {
   "cell_type": "code",
   "execution_count": 2,
   "id": "f1a8598f-456e-4aa0-b37a-d047db99e471",
   "metadata": {},
   "outputs": [
    {
     "name": "stdout",
     "output_type": "stream",
     "text": [
      "\u001b[32m\u001b[1mStatus\u001b[22m\u001b[39m `~/Amazon WorkDocs Drive/My Documents/P2/QuantumOptics.jl/example/Project.toml`\n",
      " \u001b[90m [f6369f11] \u001b[39mForwardDiff v0.10.34\n",
      " \u001b[90m [429524aa] \u001b[39mOptim v1.7.4\n",
      " \u001b[90m [6e0679c1] \u001b[39mQuantumOptics v1.0.8 `..`\n",
      " \u001b[90m [295af30f] \u001b[39mRevise v3.4.0\n"
     ]
    }
   ],
   "source": [
    "]st"
   ]
  },
  {
   "cell_type": "code",
   "execution_count": 3,
   "id": "aa44ac04-184f-40ae-928b-b66734b5bd0f",
   "metadata": {},
   "outputs": [],
   "source": [
    "#import Revise\n",
    "using QuantumOptics\n",
    "import ForwardDiff as FD\n",
    "import Optim"
   ]
  },
  {
   "cell_type": "markdown",
   "id": "8a90c8bb-67e4-4470-9c54-4714e8e07c3c",
   "metadata": {},
   "source": [
    "# System"
   ]
  },
  {
   "cell_type": "code",
   "execution_count": 4,
   "id": "ee06eff1-0113-41cd-9247-0cdfba1629b5",
   "metadata": {},
   "outputs": [
    {
     "data": {
      "text/plain": [
       "get_Ht (generic function with 1 method)"
      ]
     },
     "execution_count": 4,
     "metadata": {},
     "output_type": "execute_result"
    }
   ],
   "source": [
    "# 3 level kerr transmon with drive\n",
    "ba = FockBasis(1)\n",
    "ω0 = 5.0\n",
    "α = -0.2\n",
    "T2 = 1e4\n",
    "function get_Ht(p::Vector{<:Tp}) where Tp\n",
    "    A, freq, ϕ, T = p\n",
    "    op = 2π*([number(ba), 2\\create(ba)*number(ba)*destroy(ba), im*(create(ba)-destroy(ba))])\n",
    "    fun = [t->Tp(ω0), t->Tp(α), t->A*cospi(2t*freq + 2ϕ)*sinpi(t/T)^2]\n",
    "    H_at_t = LazySum([f(zero(eltype(p))) for f=fun], op)\n",
    "    function Ht(t,u)\n",
    "        for k=1:length(fun)\n",
    "            H_at_t.factors[k] = fun[k](t)\n",
    "        end\n",
    "        H_at_t\n",
    "    end\n",
    "    return Ht\n",
    "end"
   ]
  },
  {
   "cell_type": "code",
   "execution_count": 5,
   "id": "7c89db10-bb31-4c36-909b-6e01f36eb6e2",
   "metadata": {},
   "outputs": [
    {
     "data": {
      "text/plain": [
       "cost (generic function with 1 method)"
      ]
     },
     "execution_count": 5,
     "metadata": {},
     "output_type": "execute_result"
    }
   ],
   "source": [
    "ψ0 = Operator(SpinBasis(1/2), basisstate(ba, 1), basisstate(ba, 2))\n",
    "target = ψ0*exp(im*0.5π*dense(sigmax(SpinBasis(1/2))))\n",
    "function cost(par)\n",
    "    T = par[4]\n",
    "    Ht = get_Ht(par)\n",
    "    ts = (0.0, T)\n",
    "    _, ψT = timeevolution.schroedinger_dynamic(ts, ψ0, Ht)\n",
    "    1-abs2(tr(target'last(ψT))/2)*exp(-T/T2)\n",
    "end"
   ]
  },
  {
   "cell_type": "markdown",
   "id": "4016f7a0-ddcf-4958-b98e-71cb32d3d195",
   "metadata": {},
   "source": [
    "# initial states are the basis state"
   ]
  },
  {
   "cell_type": "code",
   "execution_count": 6,
   "id": "8701f98c-7bcb-47be-af13-8e5e004024d7",
   "metadata": {
    "tags": []
   },
   "outputs": [
    {
     "data": {
      "text/plain": [
       "1.0"
      ]
     },
     "execution_count": 6,
     "metadata": {},
     "output_type": "execute_result"
    }
   ],
   "source": [
    "# short times, works ok\n",
    "p0 = let T = 1e-3\n",
    "    [0.01, 5, 0.25, T]\n",
    "end\n",
    "cost(p0)"
   ]
  },
  {
   "cell_type": "code",
   "execution_count": 7,
   "id": "1a0d86c0-d45d-4a86-a6a3-76d4482a346a",
   "metadata": {},
   "outputs": [
    {
     "data": {
      "text/plain": [
       "4-element Vector{Float64}:\n",
       " -4.1751998733606453e-16\n",
       " -8.34772811023868e-19\n",
       "  2.1531396173854207e-16\n",
       " -1.2523414972596036e-14"
      ]
     },
     "execution_count": 7,
     "metadata": {},
     "output_type": "execute_result"
    }
   ],
   "source": [
    "FD.gradient(cost, p0)"
   ]
  },
  {
   "cell_type": "code",
   "execution_count": 8,
   "id": "e33fa02b-d041-4ea9-92e0-c4f1c849eecb",
   "metadata": {
    "tags": []
   },
   "outputs": [
    {
     "data": {
      "text/plain": [
       "0.010652603278478057"
      ]
     },
     "execution_count": 8,
     "metadata": {},
     "output_type": "execute_result"
    }
   ],
   "source": [
    "# long times\n",
    "## dynamics works ok\n",
    "## gradient gets NaN\n",
    "p0 = let T = 100\n",
    "    [0.01, 5, 0.25, T]\n",
    "end\n",
    "cost(p0)"
   ]
  },
  {
   "cell_type": "code",
   "execution_count": 9,
   "id": "e82d2bee-eea6-4549-a7cf-b8d5a68fdf42",
   "metadata": {},
   "outputs": [
    {
     "data": {
      "text/plain": [
       "4-element Vector{Float64}:\n",
       " NaN\n",
       " NaN\n",
       " NaN\n",
       " NaN"
      ]
     },
     "execution_count": 9,
     "metadata": {},
     "output_type": "execute_result"
    }
   ],
   "source": [
    "FD.gradient(cost, p0)"
   ]
  },
  {
   "cell_type": "markdown",
   "id": "b6444892-7161-4882-91f5-ef92caa0c4f9",
   "metadata": {},
   "source": [
    "# initial states are random states"
   ]
  },
  {
   "cell_type": "code",
   "execution_count": 10,
   "id": "624a4a05-bc5d-4e44-8f86-fec35a0c0980",
   "metadata": {},
   "outputs": [
    {
     "data": {
      "text/plain": [
       "Operator(dim=2x2)\n",
       "  basis left:  Fock(cutoff=1)\n",
       "  basis right: Spin(1/2)\n",
       " 0.359256+0.436229im  0.529682+0.104348im\n",
       " 0.605568+0.560291im  0.409226+0.735584im"
      ]
     },
     "execution_count": 10,
     "metadata": {},
     "output_type": "execute_result"
    }
   ],
   "source": [
    "ψ0 = Operator(SpinBasis(1/2), randstate(ba), randstate(ba))"
   ]
  },
  {
   "cell_type": "code",
   "execution_count": 11,
   "id": "913b4a05-d7de-4049-939d-be2af828ab04",
   "metadata": {
    "tags": []
   },
   "outputs": [
    {
     "data": {
      "text/plain": [
       "0.5637903463230448"
      ]
     },
     "execution_count": 11,
     "metadata": {},
     "output_type": "execute_result"
    }
   ],
   "source": [
    "# short times, works ok\n",
    "p0 = let T = 1e-3\n",
    "    [0.01, 5, 0.25, T]\n",
    "end\n",
    "cost(p0)"
   ]
  },
  {
   "cell_type": "code",
   "execution_count": 12,
   "id": "eaa24022-8266-4807-94a4-10078f17d0b7",
   "metadata": {},
   "outputs": [
    {
     "data": {
      "text/plain": [
       "4-element Vector{Float64}:\n",
       " -5.979609706978611e-6\n",
       " -1.1957577187575068e-8\n",
       " -2.4251158416139668e-5\n",
       " -3.4803176814634202"
      ]
     },
     "execution_count": 12,
     "metadata": {},
     "output_type": "execute_result"
    }
   ],
   "source": [
    "FD.gradient(cost, p0)"
   ]
  },
  {
   "cell_type": "code",
   "execution_count": 13,
   "id": "a1326346-1c58-42aa-8b9d-e5018be96f95",
   "metadata": {
    "tags": []
   },
   "outputs": [
    {
     "data": {
      "text/plain": [
       "0.5141118524433785"
      ]
     },
     "execution_count": 13,
     "metadata": {},
     "output_type": "execute_result"
    }
   ],
   "source": [
    "# long times, works ok\n",
    "p0 = let T = 100\n",
    "    [0.01, 5, 0.25, T]\n",
    "end\n",
    "cost(p0)"
   ]
  },
  {
   "cell_type": "code",
   "execution_count": 14,
   "id": "5ba80fa2-b585-4f10-a94d-bc902c669e36",
   "metadata": {},
   "outputs": [
    {
     "data": {
      "text/plain": [
       "4-element Vector{Float64}:\n",
       " 63.68995771065536\n",
       " 62.38740146319189\n",
       "  0.5331138800982694\n",
       "  1.3439324603867508"
      ]
     },
     "execution_count": 14,
     "metadata": {},
     "output_type": "execute_result"
    }
   ],
   "source": [
    "FD.gradient(cost, p0)"
   ]
  },
  {
   "cell_type": "code",
   "execution_count": null,
   "id": "f05f7055-2bd7-48ac-bf22-01078e5b3240",
   "metadata": {},
   "outputs": [],
   "source": []
  },
  {
   "cell_type": "code",
   "execution_count": null,
   "id": "7db4877d-b6c0-4240-8cb4-82f6cef3c22b",
   "metadata": {},
   "outputs": [],
   "source": []
  },
  {
   "cell_type": "code",
   "execution_count": 15,
   "id": "4d1f4559-48d9-4231-bedd-29d17701520b",
   "metadata": {},
   "outputs": [
    {
     "data": {
      "text/plain": [
       "fg! (generic function with 1 method)"
      ]
     },
     "execution_count": 15,
     "metadata": {},
     "output_type": "execute_result"
    }
   ],
   "source": [
    "function fg!(L,G,p)\n",
    "    if G != nothing\n",
    "        G .= FD.gradient(cost, p)\n",
    "        any(isnan.(G)) && error(\"NaN !!\")\n",
    "    end\n",
    "    cost(p)\n",
    "end"
   ]
  },
  {
   "cell_type": "code",
   "execution_count": 16,
   "id": "223245b9-62a1-4272-a544-de1b52585ff5",
   "metadata": {
    "tags": []
   },
   "outputs": [],
   "source": [
    "#Optim.optimize(Optim.only_fg!(fg!), p0, Optim.Options(show_trace=true))"
   ]
  }
 ],
 "metadata": {
  "kernelspec": {
   "display_name": "Julia 1.8.1",
   "language": "julia",
   "name": "julia-1.8"
  },
  "language_info": {
   "file_extension": ".jl",
   "mimetype": "application/julia",
   "name": "julia",
   "version": "1.8.1"
  }
 },
 "nbformat": 4,
 "nbformat_minor": 5
}
